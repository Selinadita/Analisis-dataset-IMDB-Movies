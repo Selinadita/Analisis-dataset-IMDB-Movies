{
  "nbformat": 4,
  "nbformat_minor": 0,
  "metadata": {
    "colab": {
      "provenance": []
    },
    "kernelspec": {
      "name": "python3",
      "display_name": "Python 3"
    },
    "language_info": {
      "name": "python"
    }
  },
  "cells": [
    {
      "cell_type": "markdown",
      "source": [
        "**Instalisasi PySpark**"
      ],
      "metadata": {
        "id": "Sne_HqrkTz32"
      }
    },
    {
      "cell_type": "code",
      "execution_count": null,
      "metadata": {
        "colab": {
          "base_uri": "https://localhost:8080/"
        },
        "id": "XTxyZAK4nh1Q",
        "outputId": "14b45d9e-b107-4681-a379-b6b5787602e7"
      },
      "outputs": [
        {
          "output_type": "stream",
          "name": "stdout",
          "text": [
            "Collecting pyspark\n",
            "  Downloading pyspark-3.5.1.tar.gz (317.0 MB)\n",
            "\u001b[2K     \u001b[90m━━━━━━━━━━━━━━━━━━━━━━━━━━━━━━━━━━━━━━━━\u001b[0m \u001b[32m317.0/317.0 MB\u001b[0m \u001b[31m3.3 MB/s\u001b[0m eta \u001b[36m0:00:00\u001b[0m\n",
            "\u001b[?25h  Preparing metadata (setup.py) ... \u001b[?25l\u001b[?25hdone\n",
            "Requirement already satisfied: py4j==0.10.9.7 in /usr/local/lib/python3.10/dist-packages (from pyspark) (0.10.9.7)\n",
            "Building wheels for collected packages: pyspark\n",
            "  Building wheel for pyspark (setup.py) ... \u001b[?25l\u001b[?25hdone\n",
            "  Created wheel for pyspark: filename=pyspark-3.5.1-py2.py3-none-any.whl size=317488491 sha256=c1a3972d06cf94014d9a0ef01e6b27f1cab11219f696c216b069d3bad33a6d5a\n",
            "  Stored in directory: /root/.cache/pip/wheels/80/1d/60/2c256ed38dddce2fdd93be545214a63e02fbd8d74fb0b7f3a6\n",
            "Successfully built pyspark\n",
            "Installing collected packages: pyspark\n",
            "Successfully installed pyspark-3.5.1\n"
          ]
        }
      ],
      "source": [
        "pip install pyspark"
      ]
    },
    {
      "cell_type": "code",
      "source": [
        "from pyspark.sql import SparkSession\n",
        "from pyspark.sql.functions import col, count, avg, desc\n",
        "import matplotlib.pyplot as plt"
      ],
      "metadata": {
        "id": "sxHSIn50oW4K"
      },
      "execution_count": null,
      "outputs": []
    },
    {
      "cell_type": "code",
      "source": [
        "# Initialize Spark Session\n",
        "spark = SparkSession.builder.appName(\"IMDB Analysis\").getOrCreate()"
      ],
      "metadata": {
        "id": "DAe2KfYZobB3"
      },
      "execution_count": null,
      "outputs": []
    },
    {
      "cell_type": "markdown",
      "source": [
        "**Membaca Data IMDB Top 1000**"
      ],
      "metadata": {
        "id": "jqY6oryBUMkC"
      }
    },
    {
      "cell_type": "code",
      "source": [
        "# Ubah path sesuai dengan lokasi file CSV yang Anda simpan\n",
        "file_path = '/content/imdb_top_1000.csv'"
      ],
      "metadata": {
        "id": "tml7EVxtobD1"
      },
      "execution_count": null,
      "outputs": []
    },
    {
      "cell_type": "code",
      "source": [
        "# Read the CSV file into a DataFrame\n",
        "df = spark.read.option(\"header\", \"true\").csv(file_path, inferSchema=True)"
      ],
      "metadata": {
        "id": "p_y2qKFxobFY"
      },
      "execution_count": null,
      "outputs": []
    },
    {
      "cell_type": "code",
      "source": [
        "# Show the initial DataFrame\n",
        "df.show(5)\n",
        "df.printSchema()"
      ],
      "metadata": {
        "colab": {
          "base_uri": "https://localhost:8080/"
        },
        "id": "mkgMS7IIq_w7",
        "outputId": "ff794625-8776-401b-9c20-1c352fd7c2ec"
      },
      "execution_count": null,
      "outputs": [
        {
          "output_type": "stream",
          "name": "stdout",
          "text": [
            "+--------------------+--------------------+-------------+-----------+-------+--------------------+-----------+--------------------+----------+--------------------+--------------+--------------+-------------+--------------+-----------+-----------+\n",
            "|         Poster_Link|        Series_Title|Released_Year|Certificate|Runtime|               Genre|IMDB_Rating|            Overview|Meta_score|            Director|         Star1|         Star2|        Star3|         Star4|No_of_Votes|      Gross|\n",
            "+--------------------+--------------------+-------------+-----------+-------+--------------------+-----------+--------------------+----------+--------------------+--------------+--------------+-------------+--------------+-----------+-----------+\n",
            "|https://m.media-a...|The Shawshank Red...|         1994|          A|142 min|               Drama|        9.3|Two imprisoned me...|        80|      Frank Darabont|   Tim Robbins|Morgan Freeman|   Bob Gunton|William Sadler|    2343110| 28,341,469|\n",
            "|https://m.media-a...|       The Godfather|         1972|          A|175 min|        Crime, Drama|        9.2|An organized crim...|       100|Francis Ford Coppola| Marlon Brando|     Al Pacino|   James Caan|  Diane Keaton|    1620367|134,966,411|\n",
            "|https://m.media-a...|     The Dark Knight|         2008|         UA|152 min|Action, Crime, Drama|        9.0|When the menace k...|        84|   Christopher Nolan|Christian Bale|  Heath Ledger|Aaron Eckhart| Michael Caine|    2303232|534,858,444|\n",
            "|https://m.media-a...|The Godfather: Pa...|         1974|          A|202 min|        Crime, Drama|        9.0|The early life an...|        90|Francis Ford Coppola|     Al Pacino|Robert De Niro|Robert Duvall|  Diane Keaton|    1129952| 57,300,000|\n",
            "|https://m.media-a...|        12 Angry Men|         1957|          U| 96 min|        Crime, Drama|        9.0|A jury holdout at...|        96|        Sidney Lumet|   Henry Fonda|   Lee J. Cobb|Martin Balsam|  John Fiedler|     689845|  4,360,000|\n",
            "+--------------------+--------------------+-------------+-----------+-------+--------------------+-----------+--------------------+----------+--------------------+--------------+--------------+-------------+--------------+-----------+-----------+\n",
            "only showing top 5 rows\n",
            "\n",
            "root\n",
            " |-- Poster_Link: string (nullable = true)\n",
            " |-- Series_Title: string (nullable = true)\n",
            " |-- Released_Year: string (nullable = true)\n",
            " |-- Certificate: string (nullable = true)\n",
            " |-- Runtime: string (nullable = true)\n",
            " |-- Genre: string (nullable = true)\n",
            " |-- IMDB_Rating: double (nullable = true)\n",
            " |-- Overview: string (nullable = true)\n",
            " |-- Meta_score: string (nullable = true)\n",
            " |-- Director: string (nullable = true)\n",
            " |-- Star1: string (nullable = true)\n",
            " |-- Star2: string (nullable = true)\n",
            " |-- Star3: string (nullable = true)\n",
            " |-- Star4: string (nullable = true)\n",
            " |-- No_of_Votes: string (nullable = true)\n",
            " |-- Gross: string (nullable = true)\n",
            "\n"
          ]
        }
      ]
    },
    {
      "cell_type": "markdown",
      "source": [
        "**Pembersihan Data**"
      ],
      "metadata": {
        "id": "Gd-MdIN-UbWT"
      }
    },
    {
      "cell_type": "code",
      "source": [
        "from pyspark.sql.functions import col\n",
        "\n",
        "# Mengecek apakah ada nilai null atau NA pada setiap kolom\n",
        "for column in df.columns:\n",
        "    # Mengecek apakah ada nilai null atau NA dalam kolom\n",
        "    count_null = df.filter(col(column).isNull() | (col(column) == 'NA')).count()\n",
        "\n",
        "    if count_null > 0:\n",
        "        print(f\"Kolom '{column}' memiliki {count_null} nilai null atau NA.\")\n",
        "    else:\n",
        "        print(f\"Tidak ada nilai null atau NA dalam kolom '{column}'.\")\n"
      ],
      "metadata": {
        "colab": {
          "base_uri": "https://localhost:8080/"
        },
        "id": "secvI4fLq_ys",
        "outputId": "a2b9369f-0c55-44e8-991c-33992de2e192"
      },
      "execution_count": null,
      "outputs": [
        {
          "output_type": "stream",
          "name": "stdout",
          "text": [
            "Tidak ada nilai null atau NA dalam kolom 'Poster_Link'.\n",
            "Tidak ada nilai null atau NA dalam kolom 'Series_Title'.\n",
            "Tidak ada nilai null atau NA dalam kolom 'Released_Year'.\n",
            "Kolom 'Certificate' memiliki 101 nilai null atau NA.\n",
            "Tidak ada nilai null atau NA dalam kolom 'Runtime'.\n",
            "Tidak ada nilai null atau NA dalam kolom 'Genre'.\n",
            "Tidak ada nilai null atau NA dalam kolom 'IMDB_Rating'.\n",
            "Tidak ada nilai null atau NA dalam kolom 'Overview'.\n",
            "Kolom 'Meta_score' memiliki 156 nilai null atau NA.\n",
            "Kolom 'Director' memiliki 1 nilai null atau NA.\n",
            "Tidak ada nilai null atau NA dalam kolom 'Star1'.\n",
            "Tidak ada nilai null atau NA dalam kolom 'Star2'.\n",
            "Tidak ada nilai null atau NA dalam kolom 'Star3'.\n",
            "Tidak ada nilai null atau NA dalam kolom 'Star4'.\n",
            "Tidak ada nilai null atau NA dalam kolom 'No_of_Votes'.\n",
            "Kolom 'Gross' memiliki 169 nilai null atau NA.\n"
          ]
        }
      ]
    },
    {
      "cell_type": "code",
      "source": [
        "df_clean = df.na.drop(subset=[\"Certificate\", \"Meta_score\", \"No_of_Votes\", \"Gross\", \"Director\"])"
      ],
      "metadata": {
        "id": "6LZ6S8QhrRgh"
      },
      "execution_count": null,
      "outputs": []
    },
    {
      "cell_type": "code",
      "source": [
        "# Mengecek apakah ada nilai null atau NA pada setiap kolom\n",
        "for column in df_clean.columns:\n",
        "    # Mengecek apakah ada nilai null atau NA dalam kolom\n",
        "    count_null = df_clean.filter(col(column).isNull() | (col(column) == 'NA')).count()\n",
        "\n",
        "    if count_null > 0:\n",
        "        print(f\"Kolom '{column}' masih memiliki {count_null} nilai null atau NA.\")\n",
        "    else:\n",
        "        print(f\"Tidak ada nilai null atau NA dalam kolom '{column}'.\")"
      ],
      "metadata": {
        "colab": {
          "base_uri": "https://localhost:8080/"
        },
        "id": "gGSlTTSOrYyN",
        "outputId": "db0498bf-a572-4f1e-bed0-62dc878ec4f7"
      },
      "execution_count": null,
      "outputs": [
        {
          "output_type": "stream",
          "name": "stdout",
          "text": [
            "Tidak ada nilai null atau NA dalam kolom 'Poster_Link'.\n",
            "Tidak ada nilai null atau NA dalam kolom 'Series_Title'.\n",
            "Tidak ada nilai null atau NA dalam kolom 'Released_Year'.\n",
            "Tidak ada nilai null atau NA dalam kolom 'Certificate'.\n",
            "Tidak ada nilai null atau NA dalam kolom 'Runtime'.\n",
            "Tidak ada nilai null atau NA dalam kolom 'Genre'.\n",
            "Tidak ada nilai null atau NA dalam kolom 'IMDB_Rating'.\n",
            "Tidak ada nilai null atau NA dalam kolom 'Overview'.\n",
            "Tidak ada nilai null atau NA dalam kolom 'Meta_score'.\n",
            "Tidak ada nilai null atau NA dalam kolom 'Director'.\n",
            "Tidak ada nilai null atau NA dalam kolom 'Star1'.\n",
            "Tidak ada nilai null atau NA dalam kolom 'Star2'.\n",
            "Tidak ada nilai null atau NA dalam kolom 'Star3'.\n",
            "Tidak ada nilai null atau NA dalam kolom 'Star4'.\n",
            "Tidak ada nilai null atau NA dalam kolom 'No_of_Votes'.\n",
            "Tidak ada nilai null atau NA dalam kolom 'Gross'.\n"
          ]
        }
      ]
    },
    {
      "cell_type": "code",
      "source": [
        "df_clean.write.csv('/content/imdbdtaclean1000.csv', header=True, mode=\"overwrite\")"
      ],
      "metadata": {
        "id": "hdoa08R8ruCS"
      },
      "execution_count": null,
      "outputs": []
    },
    {
      "cell_type": "markdown",
      "source": [
        "**Analisis Data**"
      ],
      "metadata": {
        "id": "fjjPdya9O7oK"
      }
    },
    {
      "cell_type": "markdown",
      "source": [
        "Membaca file yang sudah dibersikan"
      ],
      "metadata": {
        "id": "2ZPn04LnqXNg"
      }
    },
    {
      "cell_type": "code",
      "source": [
        "# Membaca data dari file CSV\n",
        "file_path = \"/content/imdbdtaclean1000.csv\"\n",
        "df = spark.read.csv(file_path, header=True, inferSchema=True)"
      ],
      "metadata": {
        "id": "XrKBG12pNP1f"
      },
      "execution_count": null,
      "outputs": []
    },
    {
      "cell_type": "code",
      "source": [
        "# Mendaftarkan DataFrame sebagai tabel sementara dengan nama 'imdb'\n",
        "df.createOrReplaceTempView(\"imdb\")"
      ],
      "metadata": {
        "id": "GzkWaomwO2Qc"
      },
      "execution_count": null,
      "outputs": []
    },
    {
      "cell_type": "markdown",
      "source": [
        "***1. Rekomendasi Movies Berdasarkan Rating ***"
      ],
      "metadata": {
        "id": "sIYSGHaGaJtD"
      }
    },
    {
      "cell_type": "markdown",
      "source": [
        "Melihat Jumlah Movie yang memiliki rating sama dari yang tertinggi"
      ],
      "metadata": {
        "id": "P_bNdgdYkKxK"
      }
    },
    {
      "cell_type": "code",
      "source": [
        "result = spark.sql(\"SELECT IMDB_Rating, COUNT(*) as count FROM imdb GROUP BY IMDB_Rating ORDER BY IMDB_Rating DESC\")\n",
        "result.show()"
      ],
      "metadata": {
        "colab": {
          "base_uri": "https://localhost:8080/"
        },
        "id": "xNTqDJLlPB0c",
        "outputId": "54dd3d05-7d70-4be9-d83e-6cd4c6d97f41"
      },
      "execution_count": null,
      "outputs": [
        {
          "output_type": "stream",
          "name": "stdout",
          "text": [
            "+-----------+-----+\n",
            "|IMDB_Rating|count|\n",
            "+-----------+-----+\n",
            "|        9.3|    1|\n",
            "|        9.2|    1|\n",
            "|        9.0|    3|\n",
            "|        8.9|    3|\n",
            "|        8.8|    5|\n",
            "|        8.7|    5|\n",
            "|        8.6|   11|\n",
            "|        8.5|   19|\n",
            "|        8.4|   20|\n",
            "|        8.3|   33|\n",
            "|        8.2|   32|\n",
            "|        8.1|   72|\n",
            "|        8.0|   97|\n",
            "|        7.9|   77|\n",
            "|        7.8|  107|\n",
            "|        7.7|  121|\n",
            "|        7.6|  107|\n",
            "+-----------+-----+\n",
            "\n"
          ]
        }
      ]
    },
    {
      "cell_type": "markdown",
      "source": [
        "Mengetahui judul film-film yang memiliki rating tertentu"
      ],
      "metadata": {
        "id": "S5kuvdhnWRHw"
      }
    },
    {
      "cell_type": "code",
      "source": [
        "#Series apa saja yang memiliki rating 8.8\n",
        "result_with_titles = spark.sql(\"SELECT Series_Title, IMDB_Rating FROM imdb WHERE IMDB_Rating = 8.8\")\n",
        "result_with_titles.show()"
      ],
      "metadata": {
        "colab": {
          "base_uri": "https://localhost:8080/"
        },
        "id": "7Ehfbs-JV9At",
        "outputId": "bfdff746-cd04-40b0-a914-b2f2d3707e7b"
      },
      "execution_count": null,
      "outputs": [
        {
          "output_type": "stream",
          "name": "stdout",
          "text": [
            "+--------------------+-----------+\n",
            "|        Series_Title|IMDB_Rating|\n",
            "+--------------------+-----------+\n",
            "|           Inception|        8.8|\n",
            "|          Fight Club|        8.8|\n",
            "|The Lord of the R...|        8.8|\n",
            "|        Forrest Gump|        8.8|\n",
            "|Il buono, il brut...|        8.8|\n",
            "+--------------------+-----------+\n",
            "\n"
          ]
        }
      ]
    },
    {
      "cell_type": "markdown",
      "source": [
        "*** 2. Rekomendasi Film Terbaik pada setiap tahun ***"
      ],
      "metadata": {
        "id": "gL3lc6HbaUyt"
      }
    },
    {
      "cell_type": "markdown",
      "source": [
        "Daftar film teratas untuk setiap tahun yang diurutkan berdasarkan tahun rilisnya."
      ],
      "metadata": {
        "id": "ysXki_AtWiXx"
      }
    },
    {
      "cell_type": "code",
      "source": [
        "top_movies = spark.sql(\"\"\"\n",
        "    SELECT Released_Year, Series_Title, IMDB_Rating\n",
        "    FROM (\n",
        "        SELECT Released_Year, Series_Title, IMDB_Rating,\n",
        "               ROW_NUMBER() OVER (PARTITION BY Released_Year ORDER BY IMDB_Rating DESC) as rank\n",
        "        FROM imdb\n",
        "    )\n",
        "    WHERE rank = 1\n",
        "    ORDER BY Released_Year\n",
        "\"\"\")\n",
        "top_movies.show()\n"
      ],
      "metadata": {
        "colab": {
          "base_uri": "https://localhost:8080/"
        },
        "id": "F-BIzntyPc0F",
        "outputId": "f2c3c45b-17ec-4bd1-c28d-585faf918d17"
      },
      "execution_count": null,
      "outputs": [
        {
          "output_type": "stream",
          "name": "stdout",
          "text": [
            "+-------------+--------------------+-----------+\n",
            "|Released_Year|        Series_Title|IMDB_Rating|\n",
            "+-------------+--------------------+-----------+\n",
            "|         1930|All Quiet on the ...|        8.0|\n",
            "|         1931|         City Lights|        8.5|\n",
            "|         1933|           King Kong|        7.9|\n",
            "|         1934|It Happened One N...|        8.1|\n",
            "|         1936|        Modern Times|        8.5|\n",
            "|         1938|The Adventures of...|        7.9|\n",
            "|         1939|Mr. Smith Goes to...|        8.1|\n",
            "|         1940|             Rebecca|        8.1|\n",
            "|         1941|        Citizen Kane|        8.3|\n",
            "|         1942|          Casablanca|        8.5|\n",
            "|         1944|    Double Indemnity|        8.3|\n",
            "|         1946|The Best Years of...|        8.0|\n",
            "|         1948|The Treasure of t...|        8.2|\n",
            "|         1949|       The Third Man|        8.1|\n",
            "|         1950|       All About Eve|        8.2|\n",
            "|         1951|     Ace in the Hole|        8.1|\n",
            "|         1952| Singin' in the Rain|        8.3|\n",
            "|         1953|From Here to Eter...|        7.6|\n",
            "|         1954|Shichinin no samurai|        8.6|\n",
            "|         1957|        12 Angry Men|        9.0|\n",
            "+-------------+--------------------+-----------+\n",
            "only showing top 20 rows\n",
            "\n"
          ]
        }
      ]
    },
    {
      "cell_type": "markdown",
      "source": [
        "Melihat semua judul film yang dirilis pada tahun tertentu, diurutkan berdasarkan peringkat IMDb dari yang tertinggi ke terendah."
      ],
      "metadata": {
        "id": "RYmM3o5HYZWd"
      }
    },
    {
      "cell_type": "code",
      "source": [
        "#Melihat judul film yang di risis pada tahun 1957 berdasarkan rating tertinggi\n",
        "top_movies_1957 = spark.sql(\"\"\"\n",
        "    SELECT Series_Title, IMDB_Rating\n",
        "    FROM imdb\n",
        "    WHERE Released_Year = 1957\n",
        "    ORDER BY IMDB_Rating DESC\n",
        "\"\"\")\n",
        "top_movies_1957.show()"
      ],
      "metadata": {
        "colab": {
          "base_uri": "https://localhost:8080/"
        },
        "id": "bVUaSaceXp4a",
        "outputId": "38c3e086-feb2-404b-b0b0-fdb1adf8f434"
      },
      "execution_count": null,
      "outputs": [
        {
          "output_type": "stream",
          "name": "stdout",
          "text": [
            "+--------------------+-----------+\n",
            "|        Series_Title|IMDB_Rating|\n",
            "+--------------------+-----------+\n",
            "|        12 Angry Men|        9.0|\n",
            "|The Bridge on the...|        8.1|\n",
            "+--------------------+-----------+\n",
            "\n"
          ]
        }
      ]
    },
    {
      "cell_type": "markdown",
      "source": [
        "**3. Rekomendasi Film terbaik Berdasarkan Genrenya**"
      ],
      "metadata": {
        "id": "vjEBZ_Owbk78"
      }
    },
    {
      "cell_type": "markdown",
      "source": [
        "menghitung rata-rata peringkat IMDb untuk setiap genre film.\n"
      ],
      "metadata": {
        "id": "83xfECFMY7m8"
      }
    },
    {
      "cell_type": "code",
      "source": [
        "avg_rating_genre = spark.sql(\"\"\"\n",
        "    SELECT Genre, AVG(IMDB_Rating) as avg_rating\n",
        "    FROM imdb\n",
        "    GROUP BY Genre\n",
        "    ORDER BY avg_rating DESC\n",
        "\"\"\")\n",
        "avg_rating_genre.show()\n"
      ],
      "metadata": {
        "colab": {
          "base_uri": "https://localhost:8080/"
        },
        "id": "fsYh-PjyQqMz",
        "outputId": "2d5eefcd-1e84-4bf4-d7a8-59f8e941beb7"
      },
      "execution_count": null,
      "outputs": [
        {
          "output_type": "stream",
          "name": "stdout",
          "text": [
            "+--------------------+-----------------+\n",
            "|               Genre|       avg_rating|\n",
            "+--------------------+-----------------+\n",
            "|Crime, Mystery, T...|              8.5|\n",
            "|      Horror, Sci-Fi|              8.4|\n",
            "|       Drama, Horror|              8.4|\n",
            "|      Action, Sci-Fi|              8.4|\n",
            "| Drama, Mystery, War|8.350000000000001|\n",
            "|             Western|             8.35|\n",
            "|Comedy, Musical, ...|              8.3|\n",
            "|Crime, Drama, Sci-Fi|              8.3|\n",
            "|Mystery, Romance,...|              8.3|\n",
            "|Adventure, Myster...|              8.3|\n",
            "|Crime, Drama, Fan...|             8.25|\n",
            "|Drama, Family, Sport|             8.25|\n",
            "|Action, Adventure...|            8.225|\n",
            "|        Crime, Drama|8.205263157894738|\n",
            "|Comedy, Music, Ro...|              8.2|\n",
            "| Drama, Fantasy, War|              8.2|\n",
            "|Adventure, Drama,...|              8.2|\n",
            "|Action, Drama, Sport|              8.2|\n",
            "|Action, Adventure...|8.199999999999998|\n",
            "|   Action, Adventure|8.180000000000001|\n",
            "+--------------------+-----------------+\n",
            "only showing top 20 rows\n",
            "\n"
          ]
        }
      ]
    },
    {
      "cell_type": "markdown",
      "source": [
        "Menampilkan visualisasi untuk rating film tertinggi berdasarkan genre"
      ],
      "metadata": {
        "id": "E25KyY0or__C"
      }
    },
    {
      "cell_type": "code",
      "source": [
        "import matplotlib.pyplot as plt\n",
        "\n",
        "# Mengambil data dari DataFrame Spark dan mengonversinya ke Pandas DataFrame\n",
        "avg_rating_genre_pd = avg_rating_genre.toPandas()\n",
        "# Mengurutkan data berdasarkan rata-rata rating IMDb secara menurun\n",
        "avg_rating_genre_pd = avg_rating_genre_pd.sort_values(by='avg_rating', ascending=False)\n",
        "# Memilih 10 genre dengan rata-rata rating IMDb tertinggi\n",
        "top_10_genre = avg_rating_genre_pd.head(10)\n",
        "\n",
        "# Menampilkan diagram batang horizontal untuk 10 genre teratas\n",
        "plt.figure(figsize=(10, 6))\n",
        "plt.barh(top_10_genre['Genre'], top_10_genre['avg_rating'], color='skyblue')\n",
        "plt.xlabel('Rata-rata Rating IMDb')\n",
        "plt.ylabel('Genre')\n",
        "plt.title('10 Genre Film dengan Rata-rata Rating IMDb Tertinggi')\n",
        "plt.tight_layout()  # Menyesuaikan tata letak agar tidak tumpang tindih\n",
        "plt.show()"
      ],
      "metadata": {
        "colab": {
          "base_uri": "https://localhost:8080/",
          "height": 607
        },
        "id": "eQFFv131deoz",
        "outputId": "d1351194-49fa-4c85-8a54-8a226a4e6281"
      },
      "execution_count": null,
      "outputs": [
        {
          "output_type": "display_data",
          "data": {
            "text/plain": [
              "<Figure size 1000x600 with 1 Axes>"
            ],
            "image/png": "[encoded data removed]"
          },
          "metadata": {}
        }
      ]
    },
    {
      "cell_type": "markdown",
      "source": [
        "Memberikan Rekomendasi Film Berdasarkan Genere yang diinginkan"
      ],
      "metadata": {
        "id": "vNnYq6uLeirU"
      }
    },
    {
      "cell_type": "code",
      "source": [
        "# Definisikan kata kunci genre yang ingin dicari\n",
        "genre_keyword = \"Crime\"\n",
        "\n",
        "# Query SQL untuk mencari film berdasarkan genre yang mengandung kata kunci tertentu\n",
        "query = f\"\"\"\n",
        "    SELECT *\n",
        "    FROM imdb\n",
        "    WHERE Genre LIKE '%{genre_keyword}%'\n",
        "\"\"\"\n",
        "\n",
        "# Jalankan query dan tampilkan hasilnya\n",
        "action_movies = spark.sql(query)\n",
        "action_movies.show()\n"
      ],
      "metadata": {
        "colab": {
          "base_uri": "https://localhost:8080/"
        },
        "id": "T7ffjMIUeXl1",
        "outputId": "fed39fed-f094-4040-fb68-6cfacf6dfc87"
      },
      "execution_count": null,
      "outputs": [
        {
          "output_type": "stream",
          "name": "stdout",
          "text": [
            "+--------------------+--------------------+-------------+-----------+-------+--------------------+-----------+--------------------+----------+--------------------+-----------------+--------------------+------------------+--------------------+-----------+-----------+\n",
            "|         Poster_Link|        Series_Title|Released_Year|Certificate|Runtime|               Genre|IMDB_Rating|            Overview|Meta_score|            Director|            Star1|               Star2|             Star3|               Star4|No_of_Votes|      Gross|\n",
            "+--------------------+--------------------+-------------+-----------+-------+--------------------+-----------+--------------------+----------+--------------------+-----------------+--------------------+------------------+--------------------+-----------+-----------+\n",
            "|https://m.media-a...|       The Godfather|         1972|          A|175 min|        Crime, Drama|        9.2|An organized crim...|       100|Francis Ford Coppola|    Marlon Brando|           Al Pacino|        James Caan|        Diane Keaton|    1620367|134,966,411|\n",
            "|https://m.media-a...|     The Dark Knight|         2008|         UA|152 min|Action, Crime, Drama|        9.0|When the menace k...|        84|   Christopher Nolan|   Christian Bale|        Heath Ledger|     Aaron Eckhart|       Michael Caine|    2303232|534,858,444|\n",
            "|https://m.media-a...|The Godfather: Pa...|         1974|          A|202 min|        Crime, Drama|        9.0|The early life an...|        90|Francis Ford Coppola|        Al Pacino|      Robert De Niro|     Robert Duvall|        Diane Keaton|    1129952| 57,300,000|\n",
            "|https://m.media-a...|        12 Angry Men|         1957|          U| 96 min|        Crime, Drama|        9.0|A jury holdout at...|        96|        Sidney Lumet|      Henry Fonda|         Lee J. Cobb|     Martin Balsam|        John Fiedler|     689845|  4,360,000|\n",
            "|https://m.media-a...|        Pulp Fiction|         1994|          A|154 min|        Crime, Drama|        8.9|The lives of two ...|        94|   Quentin Tarantino|    John Travolta|         Uma Thurman| Samuel L. Jackson|        Bruce Willis|    1826188|107,928,762|\n",
            "|https://m.media-a...|          Goodfellas|         1990|          A|146 min|Biography, Crime,...|        8.7|The story of Henr...|        90|     Martin Scorsese|   Robert De Niro|          Ray Liotta|         Joe Pesci|     Lorraine Bracco|    1020727| 46,836,394|\n",
            "|https://m.media-a...|      Cidade de Deus|         2002|          A|130 min|        Crime, Drama|        8.6|In the slums of R...|        79|  Fernando Meirelles|       Kátia Lund| Alexandre Rodrigues|   Leandro Firmino|Matheus Nachtergaele|     699256|  7,563,397|\n",
            "|https://m.media-a...|      The Green Mile|         1999|          A|189 min|Crime, Drama, Fan...|        8.6|The lives of guar...|        61|      Frank Darabont|        Tom Hanks|Michael Clarke Du...|       David Morse|         Bonnie Hunt|    1147794|136,801,374|\n",
            "|https://m.media-a...|               Se7en|         1995|          A|127 min|Crime, Drama, Mys...|        8.6|Two detectives, a...|        65|       David Fincher|   Morgan Freeman|           Brad Pitt|      Kevin Spacey| Andrew Kevin Walker|    1445096|100,125,643|\n",
            "|https://m.media-a...|The Silence of th...|         1991|          A|118 min|Crime, Drama, Thr...|        8.6|A young F.B.I. ca...|        85|      Jonathan Demme|     Jodie Foster|     Anthony Hopkins|Lawrence A. Bonney|        Kasi Lemmons|    1270197|130,742,922|\n",
            "|https://m.media-a...|               Joker|         2019|          A|122 min|Crime, Drama, Thr...|        8.5|In Gotham City, m...|        59|       Todd Phillips|  Joaquin Phoenix|      Robert De Niro|       Zazie Beetz|      Frances Conroy|     939252|335,451,311|\n",
            "|https://m.media-a...|        The Departed|         2006|          A|151 min|Crime, Drama, Thr...|        8.5|An undercover cop...|        85|     Martin Scorsese|Leonardo DiCaprio|          Matt Damon|    Jack Nicholson|       Mark Wahlberg|    1189773|132,384,315|\n",
            "|https://m.media-a...|  The Usual Suspects|         1995|          A|106 min|Crime, Mystery, T...|        8.5|A sole survivor t...|        77|        Bryan Singer|     Kevin Spacey|       Gabriel Byrne|  Chazz Palminteri|     Stephen Baldwin|     991208| 23,341,568|\n",
            "|https://m.media-a...|                Léon|         1994|          A|110 min|Action, Crime, Drama|        8.5|Mathilda, a 12-ye...|        64|          Luc Besson|        Jean Reno|         Gary Oldman|   Natalie Portman|        Danny Aiello|    1035236| 19,501,238|\n",
            "|https://m.media-a...|              Snatch|         2000|         UA|104 min|       Comedy, Crime|        8.3|Unscrupulous boxi...|        55|         Guy Ritchie|    Jason Statham|           Brad Pitt|  Benicio Del Toro|       Dennis Farina|     782001| 30,328,156|\n",
            "|https://m.media-a...|      Reservoir Dogs|         1992|          R| 99 min|Crime, Drama, Thr...|        8.3|When a simple jew...|        79|   Quentin Tarantino|    Harvey Keitel|            Tim Roth|    Michael Madsen|          Chris Penn|     918562|  2,832,029|\n",
            "|https://m.media-a...|            Scarface|         1983|          A|170 min|        Crime, Drama|        8.3|In 1980 Miami, a ...|        65|      Brian De Palma|        Al Pacino|   Michelle Pfeiffer|      Steven Bauer|Mary Elizabeth Ma...|     740911| 45,598,982|\n",
            "|https://m.media-a...|         Taxi Driver|         1976|          A|114 min|        Crime, Drama|        8.3|A mentally unstab...|        94|     Martin Scorsese|   Robert De Niro|        Jodie Foster|   Cybill Shepherd|       Albert Brooks|     724636| 28,262,574|\n",
            "|https://m.media-a...|           The Sting|         1973|          U|129 min|Comedy, Crime, Drama|        8.3|Two grifters team...|        83|     George Roy Hill|      Paul Newman|      Robert Redford|       Robert Shaw|     Charles Durning|     241513|159,600,000|\n",
            "|https://m.media-a...|  A Clockwork Orange|         1971|          A|136 min|Crime, Drama, Sci-Fi|        8.3|In the future, a ...|        77|     Stanley Kubrick| Malcolm McDowell|       Patrick Magee|     Michael Bates|       Warren Clarke|     757904|  6,207,725|\n",
            "+--------------------+--------------------+-------------+-----------+-------+--------------------+-----------+--------------------+----------+--------------------+-----------------+--------------------+------------------+--------------------+-----------+-----------+\n",
            "only showing top 20 rows\n",
            "\n"
          ]
        }
      ]
    }
  ]
}